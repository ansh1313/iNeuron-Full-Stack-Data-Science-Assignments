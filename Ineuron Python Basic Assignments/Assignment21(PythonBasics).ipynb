{
 "cells": [
  {
   "cell_type": "markdown",
   "id": "f88d354c-8bf9-4d05-aa2d-384aff3af435",
   "metadata": {},
   "source": [
    "ASSIGNMENT 21 SOLUTIONS\n",
    "SUBMITTED BY: GURANSH SINGH\n",
    "\n",
    "1. Add the current date to the text file today.txt as a string."
   ]
  },
  {
   "cell_type": "code",
   "execution_count": 1,
   "id": "55b3cf2b-ab6d-4259-a5ab-07d01123a65b",
   "metadata": {},
   "outputs": [
    {
     "name": "stdout",
     "output_type": "stream",
     "text": [
      "12-07-2023\n"
     ]
    }
   ],
   "source": [
    "import datetime\n",
    "# Code to Add current date to the today.txt file\n",
    "file = open('today.txt','w')\n",
    "file.write(datetime.datetime.now().strftime(\"%d-%m-%Y\"))\n",
    "file.close()\n",
    "# Code to Read current date from today.txt file\n",
    "file = open('today.txt','r')\n",
    "print(file.read())\n",
    "file.close()"
   ]
  },
  {
   "cell_type": "markdown",
   "id": "fcc8d3fe-9e1b-42d3-adb5-b399e6b95381",
   "metadata": {},
   "source": [
    "2. Read the text file today.txt into the string today_string"
   ]
  },
  {
   "cell_type": "code",
   "execution_count": 2,
   "id": "93d7e55c-77df-48f3-8ecc-389a8c15109f",
   "metadata": {},
   "outputs": [
    {
     "name": "stdout",
     "output_type": "stream",
     "text": [
      "12-07-2023\n"
     ]
    }
   ],
   "source": [
    "file = open('today.txt','r')\n",
    "today_string = file.read()\n",
    "print(today_string)"
   ]
  },
  {
   "cell_type": "markdown",
   "id": "780f55e5-0398-44af-b24c-b4508c3b5c54",
   "metadata": {},
   "source": [
    "3. Parse the date from today_string."
   ]
  },
  {
   "cell_type": "code",
   "execution_count": 3,
   "id": "79076d96-f9ce-43dc-9411-ef3fd3472234",
   "metadata": {},
   "outputs": [
    {
     "name": "stdout",
     "output_type": "stream",
     "text": [
      "2023-07-12 00:00:00\n"
     ]
    }
   ],
   "source": [
    "from datetime import datetime\n",
    "parsed_data = datetime.strptime(today_string, '%d-%m-%Y')\n",
    "print(parsed_data)"
   ]
  },
  {
   "cell_type": "markdown",
   "id": "a19aad98-a94e-4f87-aa9e-2a9ec3af6c25",
   "metadata": {},
   "source": [
    "4. List the files in your current directory"
   ]
  },
  {
   "cell_type": "code",
   "execution_count": 4,
   "id": "b0c210cc-0766-4a44-897b-4a8705e204a5",
   "metadata": {},
   "outputs": [
    {
     "name": "stdout",
     "output_type": "stream",
     "text": [
      "12th Nov(Functions) (2).ipynb\n",
      "Assignment18(PythonBasics).ipynb\n",
      "contacts.csv\n",
      "Assignment21(PythonBasics).ipynb\n",
      "Assignment15(PythonBasics).ipynb\n",
      "Assignment10(PythonBasics).ipynb\n",
      "3rd dec(Exception).ipynb\n",
      "test1.csv\n",
      "test.txt\n",
      "Assignment14(PythonBasics).ipynb\n",
      "mongo_file1.txt\n",
      "zoo.py\n",
      "11thMarch(ED&FE).ipynb\n",
      "addresses.csv\n",
      "Assignment 5.ipynb\n",
      "clead_google_playstore_data\n",
      "programs.csv\n",
      "airline1.xls\n",
      "15thJan(Ineuron questions).ipynb\n",
      "Assignment5(PythonBasics).ipynb\n",
      "19th Nov(Revision_50Questions).ipynb\n",
      "mail_addresses.csv\n",
      "Assignment20(PythonBasics).ipynb\n",
      "holiday_schedules.csv\n",
      "sol2.log\n",
      "29thJan(Pandas).ipynb\n",
      "Assignment9(PythonBasics).ipynb\n",
      "27thJan(Pandas).ipynb\n",
      "Assignment16(PythonBasics).ipynb\n",
      "18thDec(Inheritance).ipynb\n",
      "20thMay.ipynb\n",
      "CRUDMongo_class.log\n",
      "13th Nov(Functions).ipynb\n",
      "4thFeb(Graph).ipynb\n",
      "phones.csv\n",
      "12th Nov(Functions) (1).ipynb\n",
      "organizations.csv\n",
      "Assignment17(PythonBasics).ipynb\n",
      "taxonomy.csv\n",
      "file_class.log\n",
      "test2.xlsx\n",
      "Assignment11(PythonBasics).ipynb\n",
      "Assignment4(PythonBasics).ipynb\n",
      "test1.txt\n",
      "28thJan(Pandas).ipynb\n",
      "Assignment2(PythonBasics).ipynb\n",
      "Assignment8(PythonBasics).ipynb\n",
      "Assignment7(PythonBasics).ipynb\n",
      "regular_schedules.csv\n",
      "Assignment1(PythonBasics).ipynb\n",
      "abc1.txt\n",
      "OOPS(Revision 15th Jan).ipynb\n",
      "airline.xls - Sheet1.csv\n",
      "questions(Python(50Part1).ipynb\n",
      "Assignment19(PythonBasics).ipynb\n",
      "SVM_Kernel(13thMay).ipynb\n",
      "12thMarch.ipynb\n",
      "17thDec(OOPS).ipynb\n",
      "books.db\n",
      "11thFeb(Project).ipynb\n",
      "Mongo(14th Jan).ipynb\n",
      "Assignment6(PythonBasics).ipynb\n",
      "13th Nov(Functions) (1).ipynb\n",
      "26thFeb(Statistics).ipynb\n",
      "Untitled.ipynb\n",
      "Assignment 29th October Function.ipynb\n",
      "Mongo+sql.ipynb\n",
      "(1stApril).ipynb\n",
      "today.txt\n",
      "Assignment3(PythonBasics).ipynb\n",
      "players.csv\n",
      "Assignment13(PythonBasics).ipynb\n",
      "OOPS(Revision 14th Jan).ipynb\n",
      "Assignment12(PythonBasics).ipynb\n",
      "11thMarch(EDA).ipynb\n",
      "27th Nov.ipynb\n",
      "books.csv\n",
      "application_log.txt\n",
      "4thFeb(Numpy).ipynb\n",
      "locations.csv\n",
      "services.csv\n",
      "Logger.log\n",
      "20th Nov and 26th Nov(Revision_of_python).ipynb\n",
      "packed-refs\n",
      "HEAD\n",
      "index\n",
      "config\n",
      "description\n",
      "HEAD\n",
      "main\n",
      "HEAD\n",
      "exclude\n",
      "pack-d2e073dee73ad917ddaee208dbc53828a7513004.idx\n",
      "pack-d2e073dee73ad917ddaee208dbc53828a7513004.pack\n",
      "pre-push.sample\n",
      "prepare-commit-msg.sample\n",
      "applypatch-msg.sample\n",
      "pre-applypatch.sample\n",
      "commit-msg.sample\n",
      "pre-rebase.sample\n",
      "pre-receive.sample\n",
      "update.sample\n",
      "fsmonitor-watchman.sample\n",
      "pre-merge-commit.sample\n",
      "pre-commit.sample\n",
      "push-to-checkout.sample\n",
      "post-update.sample\n",
      "main\n",
      "HEAD\n",
      "zoo.cpython-310.pyc\n",
      "4thFeb(Graph)-checkpoint.ipynb\n",
      "11thMarch(ED&FE)-checkpoint.ipynb\n",
      "clead_google_playstore_data-checkpoint\n",
      "Assignment14(PythonBasics)-checkpoint.ipynb\n",
      "OOPS(Revision 15th Jan)-checkpoint.ipynb\n",
      "Assignment15(PythonBasics)-checkpoint.ipynb\n",
      "26thFeb(Statistics)-checkpoint.ipynb\n",
      "3rd dec(Exception)-checkpoint.ipynb\n",
      "15thJan(Ineuron questions)-checkpoint.ipynb\n",
      "29thJan(Pandas)-checkpoint.ipynb\n",
      "27th Nov-checkpoint.ipynb\n",
      "Assignment6(PythonBasics)-checkpoint.ipynb\n",
      "test1-checkpoint.csv\n",
      "Assignment2(PythonBasics)-checkpoint.ipynb\n",
      "Assignment1(PythonBasics)-checkpoint.ipynb\n",
      "Assignment5(PythonBasics)-checkpoint.ipynb\n",
      "Assignment21(PythonBasics)-checkpoint.ipynb\n",
      "Assignment12(PythonBasics)-checkpoint.ipynb\n",
      "11thFeb(Project)-checkpoint.ipynb\n",
      "Assignment4(PythonBasics)-checkpoint.ipynb\n",
      "Assignment17(PythonBasics)-checkpoint.ipynb\n",
      "OOPS(Revision 14th Jan)-checkpoint.ipynb\n",
      "27thJan(Pandas)-checkpoint.ipynb\n",
      "mongo_file1-checkpoint.txt\n",
      "19th Nov(Revision_50Questions)-checkpoint.ipynb\n",
      "Assignment9(PythonBasics)-checkpoint.ipynb\n",
      "(1stApril)-checkpoint.ipynb\n",
      "Assignment3(PythonBasics)-checkpoint.ipynb\n",
      "zoo-checkpoint.py\n",
      "Assignment7(PythonBasics)-checkpoint.ipynb\n",
      "Assignment18(PythonBasics)-checkpoint.ipynb\n",
      "13th Nov(Functions) (1)-checkpoint.ipynb\n",
      "11thMarch(EDA)-checkpoint.ipynb\n",
      "4thFeb(Numpy)-checkpoint.ipynb\n",
      "questions(Python(50Part1)-checkpoint.ipynb\n",
      "12th Nov(Functions) (2)-checkpoint.ipynb\n",
      "file_class-checkpoint.log\n",
      "18thDec(Inheritance)-checkpoint.ipynb\n",
      "CRUDMongo_class-checkpoint.log\n",
      "20th Nov and 26th Nov(Revision_of_python)-checkpoint.ipynb\n",
      "Assignment 5-checkpoint.ipynb\n",
      "Assignment20(PythonBasics)-checkpoint.ipynb\n",
      "test-checkpoint.txt\n",
      "Mongo+sql-checkpoint.ipynb\n",
      "12th Nov(Functions) (1)-checkpoint.ipynb\n",
      "17thDec(OOPS)-checkpoint.ipynb\n",
      "Assignment13(PythonBasics)-checkpoint.ipynb\n",
      "SVM_Kernel(13thMay)-checkpoint.ipynb\n",
      "20thMay-checkpoint.ipynb\n",
      "12thMarch-checkpoint.ipynb\n",
      "28thJan(Pandas)-checkpoint.ipynb\n",
      "Assignment10(PythonBasics)-checkpoint.ipynb\n",
      "Assignment 29th October Function-checkpoint.ipynb\n",
      "Untitled-checkpoint.ipynb\n",
      "players-checkpoint.csv\n",
      "Assignment16(PythonBasics)-checkpoint.ipynb\n",
      "Logger-checkpoint.log\n",
      "test1-checkpoint.txt\n",
      "Assignment11(PythonBasics)-checkpoint.ipynb\n",
      "Assignment19(PythonBasics)-checkpoint.ipynb\n",
      "Mongo(14th Jan)-checkpoint.ipynb\n",
      "Assignment8(PythonBasics)-checkpoint.ipynb\n"
     ]
    }
   ],
   "source": [
    "import os\n",
    "for folders, subfolders, files in os.walk(os.getcwd()):\n",
    "    for file in files:\n",
    "        print(file)"
   ]
  },
  {
   "cell_type": "markdown",
   "id": "bc8d2a3f-3ecb-4459-9952-70cd64124a57",
   "metadata": {},
   "source": [
    "5. Create a list of all of the files in your parent directory (minimum five files should be available)."
   ]
  },
  {
   "cell_type": "code",
   "execution_count": 5,
   "id": "03c1cbec-acbd-45f9-b18f-973cd129f457",
   "metadata": {},
   "outputs": [
    {
     "data": {
      "text/plain": [
       "['12th Nov(Functions) (2).ipynb',\n",
       " 'Assignment18(PythonBasics).ipynb',\n",
       " 'contacts.csv',\n",
       " 'Assignment21(PythonBasics).ipynb',\n",
       " 'Assignment15(PythonBasics).ipynb',\n",
       " 'Assignment10(PythonBasics).ipynb',\n",
       " '3rd dec(Exception).ipynb',\n",
       " 'test1.csv',\n",
       " 'test.txt',\n",
       " 'Assignment14(PythonBasics).ipynb',\n",
       " 'mongo_file1.txt',\n",
       " 'zoo.py',\n",
       " '11thMarch(ED&FE).ipynb',\n",
       " 'addresses.csv',\n",
       " 'Assignment 5.ipynb',\n",
       " 'clead_google_playstore_data',\n",
       " 'programs.csv',\n",
       " 'airline1.xls',\n",
       " '15thJan(Ineuron questions).ipynb',\n",
       " '.git',\n",
       " 'Assignment5(PythonBasics).ipynb',\n",
       " '19th Nov(Revision_50Questions).ipynb',\n",
       " 'mail_addresses.csv',\n",
       " 'Assignment20(PythonBasics).ipynb',\n",
       " 'holiday_schedules.csv',\n",
       " 'sol2.log',\n",
       " '29thJan(Pandas).ipynb',\n",
       " 'Assignment9(PythonBasics).ipynb',\n",
       " '27thJan(Pandas).ipynb',\n",
       " 'Assignment16(PythonBasics).ipynb',\n",
       " '18thDec(Inheritance).ipynb',\n",
       " '20thMay.ipynb',\n",
       " 'CRUDMongo_class.log',\n",
       " '13th Nov(Functions).ipynb',\n",
       " '4thFeb(Graph).ipynb',\n",
       " 'phones.csv',\n",
       " '12th Nov(Functions) (1).ipynb',\n",
       " 'organizations.csv',\n",
       " 'Assignment17(PythonBasics).ipynb',\n",
       " 'taxonomy.csv',\n",
       " 'file_class.log',\n",
       " 'test2.xlsx',\n",
       " 'Assignment11(PythonBasics).ipynb',\n",
       " 'Assignment4(PythonBasics).ipynb',\n",
       " 'test1.txt',\n",
       " '28thJan(Pandas).ipynb',\n",
       " 'Assignment2(PythonBasics).ipynb',\n",
       " 'Assignment8(PythonBasics).ipynb',\n",
       " 'Assignment7(PythonBasics).ipynb',\n",
       " 'regular_schedules.csv',\n",
       " 'Assignment1(PythonBasics).ipynb',\n",
       " 'abc1.txt',\n",
       " 'OOPS(Revision 15th Jan).ipynb',\n",
       " 'airline.xls - Sheet1.csv',\n",
       " 'questions(Python(50Part1).ipynb',\n",
       " 'Assignment19(PythonBasics).ipynb',\n",
       " 'SVM_Kernel(13thMay).ipynb',\n",
       " '12thMarch.ipynb',\n",
       " '__pycache__',\n",
       " '17thDec(OOPS).ipynb',\n",
       " 'books.db',\n",
       " '11thFeb(Project).ipynb',\n",
       " 'Mongo(14th Jan).ipynb',\n",
       " 'Assignment6(PythonBasics).ipynb',\n",
       " '13th Nov(Functions) (1).ipynb',\n",
       " '26thFeb(Statistics).ipynb',\n",
       " 'Untitled.ipynb',\n",
       " '.ipynb_checkpoints',\n",
       " 'Assignment 29th October Function.ipynb',\n",
       " 'Mongo+sql.ipynb',\n",
       " '(1stApril).ipynb',\n",
       " 'today.txt',\n",
       " 'Assignment3(PythonBasics).ipynb',\n",
       " 'players.csv',\n",
       " 'Assignment13(PythonBasics).ipynb',\n",
       " 'OOPS(Revision 14th Jan).ipynb',\n",
       " 'Assignment12(PythonBasics).ipynb',\n",
       " '11thMarch(EDA).ipynb',\n",
       " '27th Nov.ipynb',\n",
       " 'books.csv',\n",
       " 'application_log.txt',\n",
       " '4thFeb(Numpy).ipynb',\n",
       " 'locations.csv',\n",
       " 'services.csv',\n",
       " 'Logger.log',\n",
       " '20th Nov and 26th Nov(Revision_of_python).ipynb']"
      ]
     },
     "execution_count": 5,
     "metadata": {},
     "output_type": "execute_result"
    }
   ],
   "source": [
    "import os \n",
    "os.listdir()"
   ]
  },
  {
   "cell_type": "markdown",
   "id": "33efbde2-9fdd-4f8b-a72a-631866359bf5",
   "metadata": {},
   "source": [
    "6. Use multiprocessing to create three separate processes. Make each one wait a random number of seconds between one and five, print the current time, and then exit."
   ]
  },
  {
   "cell_type": "code",
   "execution_count": 6,
   "id": "8955cd5b-28d0-4ae5-9e9d-72bd156e118e",
   "metadata": {},
   "outputs": [
    {
     "name": "stdout",
     "output_type": "stream",
     "text": [
      "Proc_one_Starttime -> 2023-07-12 12:51:11.382115Proc_two_Starttime -> 2023-07-12 12:51:11.401947\n",
      "Proc_two_Starttime -> 2023-07-12 12:51:11.417982\n",
      "\n",
      "Proc_two_Endtime -> 2023-07-12 12:51:12.498272\n",
      "Proc_one_Endtime -> 2023-07-12 12:51:14.452224\n",
      "Proc_two_Endtime -> 2023-07-12 12:51:15.454130\n"
     ]
    }
   ],
   "source": [
    "import multiprocessing\n",
    "import time \n",
    "import random\n",
    "import datetime\n",
    "\n",
    "def procOne():\n",
    "    print(f'Proc_one_Starttime -> {datetime.datetime.now()}')\n",
    "    time.sleep(random.randint(1,5))\n",
    "    print(f'Proc_one_Endtime -> {datetime.datetime.now()}')\n",
    "    \n",
    "def procTwo():\n",
    "    print(f'Proc_two_Starttime -> {datetime.datetime.now()}')\n",
    "    time.sleep(random.randint(1,5))\n",
    "    print(f'Proc_two_Endtime -> {datetime.datetime.now()}')\n",
    "\n",
    "def procThree():\n",
    "    print(f'Proc_two_Starttime -> {datetime.datetime.now()}')\n",
    "    time.sleep(random.randint(1,5))\n",
    "    print(f'Proc_two_Endtime -> {datetime.datetime.now()}')\n",
    "    \n",
    "if __name__ == \"__main__\":    \n",
    "    p1 = multiprocessing.Process(target=procOne)\n",
    "    p2 = multiprocessing.Process(target=procTwo)\n",
    "    p3 = multiprocessing.Process(target=procThree)\n",
    "\n",
    "    p1.start()\n",
    "    p2.start()\n",
    "    p3.start()\n",
    "\n",
    "    p1.join()\n",
    "    p2.join()\n",
    "    p3.join()"
   ]
  },
  {
   "cell_type": "markdown",
   "id": "af3a74de-1c8b-4967-96f4-50b48417c153",
   "metadata": {},
   "source": [
    "7. Create a date object of your day of birth."
   ]
  },
  {
   "cell_type": "code",
   "execution_count": 7,
   "id": "7c8abb38-6f00-4ce4-b025-e917c959b09a",
   "metadata": {},
   "outputs": [
    {
     "name": "stdout",
     "output_type": "stream",
     "text": [
      "1994-01-12 00:00:00 <class 'datetime.datetime'>\n"
     ]
    }
   ],
   "source": [
    "from datetime import datetime\n",
    "my_dob = datetime.strptime('12/01/1994','%d/%m/%Y')\n",
    "print(my_dob, type(my_dob))"
   ]
  },
  {
   "cell_type": "markdown",
   "id": "c1fded94-47a8-4c10-af93-c623ffca16c1",
   "metadata": {},
   "source": [
    "8. What day of the week was your day of birth?"
   ]
  },
  {
   "cell_type": "code",
   "execution_count": 8,
   "id": "75d4ad5c-f3ed-4e57-ab1e-3f5955884d4b",
   "metadata": {},
   "outputs": [
    {
     "data": {
      "text/plain": [
       "'Wednesday'"
      ]
     },
     "execution_count": 8,
     "metadata": {},
     "output_type": "execute_result"
    }
   ],
   "source": [
    "from datetime import datetime\n",
    "my_dob = datetime(1994,1,12)\n",
    "my_dob.strftime(\"%A\")"
   ]
  },
  {
   "cell_type": "markdown",
   "id": "20928aca-073f-4f9f-b666-3627b2abfd6f",
   "metadata": {},
   "source": [
    "9. When will you be (or when were you) 10,000 days old?"
   ]
  },
  {
   "cell_type": "code",
   "execution_count": 9,
   "id": "c5868a4b-c00f-4ba7-86e6-4f456c270dcd",
   "metadata": {},
   "outputs": [
    {
     "data": {
      "text/plain": [
       "datetime.datetime(1966, 8, 27, 0, 0)"
      ]
     },
     "execution_count": 9,
     "metadata": {},
     "output_type": "execute_result"
    }
   ],
   "source": [
    "from datetime import datetime, timedelta\n",
    "my_dob = datetime.strptime(\"12/01/1994\",'%d/%m/%Y')\n",
    "future_date = my_dob-timedelta(10000)\n",
    "future_date"
   ]
  },
  {
   "cell_type": "code",
   "execution_count": null,
   "id": "72f6dbb0-10de-4f9f-8a8f-97cc1dc43c1a",
   "metadata": {},
   "outputs": [],
   "source": []
  }
 ],
 "metadata": {
  "kernelspec": {
   "display_name": "Python 3 (ipykernel)",
   "language": "python",
   "name": "python3"
  },
  "language_info": {
   "codemirror_mode": {
    "name": "ipython",
    "version": 3
   },
   "file_extension": ".py",
   "mimetype": "text/x-python",
   "name": "python",
   "nbconvert_exporter": "python",
   "pygments_lexer": "ipython3",
   "version": "3.10.6"
  }
 },
 "nbformat": 4,
 "nbformat_minor": 5
}
