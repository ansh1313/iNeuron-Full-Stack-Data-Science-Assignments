{
 "cells": [
  {
   "cell_type": "markdown",
   "id": "665a809d-a6de-46d3-8f71-a312d4eb6c3c",
   "metadata": {},
   "source": [
    "ASSIGNMENT 5 SOLUTIONS\n",
    "SUBMITTED BY: GURANSH SINGH\n",
    "\n",
    "1.What does an empty dictionary's code look like?\n",
    "Ans: An empty dictionary is often represented by two empty curly brackets\n",
    "d = {} or d = dict()"
   ]
  },
  {
   "cell_type": "code",
   "execution_count": 1,
   "id": "bdf913c5-412d-4bbb-9719-60daf58c053c",
   "metadata": {},
   "outputs": [
    {
     "name": "stdout",
     "output_type": "stream",
     "text": [
      "{}\n",
      "Length: 0\n",
      "<class 'dict'>\n"
     ]
    }
   ],
   "source": [
    "# Python3 code to demonstrate use of\n",
    "# {} symbol to initialize dictionary\n",
    "emptyDict = {}\n",
    " \n",
    "# print dictionary\n",
    "print(emptyDict)\n",
    " \n",
    "# print length of dictionary\n",
    "print(\"Length:\", len(emptyDict))\n",
    " \n",
    "# print type\n",
    "print(type(emptyDict))"
   ]
  },
  {
   "cell_type": "markdown",
   "id": "287882ac-0d28-408c-99f5-c5380b57661a",
   "metadata": {},
   "source": [
    "2.what is the value of dictionary value with key 'foo' and the value 42 ?\n",
    "Ans: {'foo':42}\n",
    "\n",
    "3.What is the most significant distinction between a dictionary and a list?\n",
    "Ans: Dictionaries are represented by {} where as listed are represented by []. The Items stored in a dictionary are Unordered , while the items in a list are ordered.\n",
    "\n",
    "Lists are just like the arrays, declared in other languages. Lists need not be homogeneous always which makes it a most powerful tool in Python. A single list may contain DataTypes like Integers, Strings, as well as Objects. Lists are mutable, and hence, they can be altered even after their creation.\n",
    "\n",
    "Dictionary in Python on the other hand is an unordered collection of data values, used to store data values like a map, which unlike other Data Types that hold only single value as an element, Dictionary holds key:value pair. Key-value is provided in the dictionary to make it more optimized. Each key-value pair in a Dictionary is separated by a colon :, whereas each key is separated by a ‘comma’."
   ]
  },
  {
   "cell_type": "code",
   "execution_count": 2,
   "id": "06269706-f459-4680-814c-225d5293e9fc",
   "metadata": {},
   "outputs": [
    {
     "name": "stdout",
     "output_type": "stream",
     "text": [
      "Dictionary with the use of Integer Keys: \n",
      "{1: 'Sharva', 2: 'Arra', 3: 'Mihir'}\n",
      "List containing multiple values: \n",
      "Sharva\n",
      "ABC\n"
     ]
    }
   ],
   "source": [
    "#Dictionary\n",
    "Dict = {1: 'Sharva', 2: 'Arra', 3: 'Mihir'}\n",
    "print(\"Dictionary with the use of Integer Keys: \")\n",
    "print(Dict)\n",
    "\n",
    "#List\n",
    "List = [\"Sharva\", \"Nikki\", \"ABC\"]\n",
    "print(\"List containing multiple values: \")\n",
    "print(List[0]) \n",
    "print(List[2])"
   ]
  },
  {
   "cell_type": "markdown",
   "id": "36b0dfbe-5317-4f21-8670-5a6d2b666264",
   "metadata": {},
   "source": [
    "4.What happens if you try to access spam ['foo'] if spam is {'bar':100} ?\n",
    "Ans: we will get a keyError KeyError: 'foo'"
   ]
  },
  {
   "cell_type": "code",
   "execution_count": 3,
   "id": "844b495a-0a3d-43a0-8fa6-fabb2129fb2c",
   "metadata": {},
   "outputs": [
    {
     "ename": "KeyError",
     "evalue": "'foo'",
     "output_type": "error",
     "traceback": [
      "\u001b[0;31m---------------------------------------------------------------------------\u001b[0m",
      "\u001b[0;31mKeyError\u001b[0m                                  Traceback (most recent call last)",
      "Cell \u001b[0;32mIn [3], line 2\u001b[0m\n\u001b[1;32m      1\u001b[0m spam \u001b[38;5;241m=\u001b[39m {\u001b[38;5;124m'\u001b[39m\u001b[38;5;124mbar\u001b[39m\u001b[38;5;124m'\u001b[39m: \u001b[38;5;241m100\u001b[39m}\n\u001b[0;32m----> 2\u001b[0m \u001b[43mspam\u001b[49m\u001b[43m \u001b[49m\u001b[43m[\u001b[49m\u001b[38;5;124;43m'\u001b[39;49m\u001b[38;5;124;43mfoo\u001b[39;49m\u001b[38;5;124;43m'\u001b[39;49m\u001b[43m]\u001b[49m\n",
      "\u001b[0;31mKeyError\u001b[0m: 'foo'"
     ]
    }
   ],
   "source": [
    "spam = {'bar': 100}\n",
    "spam ['foo']"
   ]
  },
  {
   "cell_type": "markdown",
   "id": "14025e48-333f-4ff9-9f8c-1154b2df9cb4",
   "metadata": {},
   "source": [
    "5.if a dictionary is stored in spam,what is the difference between the expressions 'cat' in spam and 'cat' in spam.keys() ?\n",
    "Ans: There is no difference . The operator checks whether a value exits as a key in the dictionary or not.\n",
    "\n",
    "6.if a dictionary is stored in spam,what is the difference between the expressions 'cat' in spam and 'cat' in spam.values() ?\n",
    "Ans:'cat' in spam checks whether there is a 'cat' key in the dictionary, while 'cat' in spam.values() checks whether there is a value 'cat' for one of the keys in spam.\n",
    "\n",
    "7.what is a shortcut for the following code ?\n",
    "if 'color' not in spam: spam['color'] ='black'\n",
    "\n",
    "Ans: spam.setdefault('color','black')\n",
    "\n"
   ]
  },
  {
   "cell_type": "code",
   "execution_count": 4,
   "id": "e8cac3b8-376e-4be7-8048-db601783b10a",
   "metadata": {},
   "outputs": [
    {
     "data": {
      "text/plain": [
       "'black'"
      ]
     },
     "execution_count": 4,
     "metadata": {},
     "output_type": "execute_result"
    }
   ],
   "source": [
    "if 'color' not in spam: spam['color'] ='black'\n",
    "\n",
    "spam.setdefault('color','black')"
   ]
  },
  {
   "cell_type": "markdown",
   "id": "c90a6a9b-3825-4c37-8845-e2d7acbd3801",
   "metadata": {},
   "source": [
    "8.How do you 'pretty print' dictionary values using which modules and function ?\n",
    "Ans: we can pretty print a dictionary using three functions\n",
    "\n",
    "by using pprint() function of pprint module\n",
    "Note: pprint() function doesnot prettify nested dictionaries\n",
    "by using dumps() method of json module\n",
    "by using dumps() method of yaml module"
   ]
  },
  {
   "cell_type": "code",
   "execution_count": null,
   "id": "3c9eb172-5b53-45ad-8406-e847beab90d7",
   "metadata": {},
   "outputs": [],
   "source": []
  }
 ],
 "metadata": {
  "kernelspec": {
   "display_name": "Python 3 (ipykernel)",
   "language": "python",
   "name": "python3"
  },
  "language_info": {
   "codemirror_mode": {
    "name": "ipython",
    "version": 3
   },
   "file_extension": ".py",
   "mimetype": "text/x-python",
   "name": "python",
   "nbconvert_exporter": "python",
   "pygments_lexer": "ipython3",
   "version": "3.10.6"
  }
 },
 "nbformat": 4,
 "nbformat_minor": 5
}
