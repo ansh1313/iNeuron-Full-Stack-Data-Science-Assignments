{
 "cells": [
  {
   "cell_type": "markdown",
   "id": "1f34ab7f-d790-41d8-8297-8d71907dddb0",
   "metadata": {},
   "source": [
    "ASSIGNMENT 12 SOLUTIONS\n",
    "SUBMITTED BY: GURANSH SINGH\n",
    "\n",
    "1. In what modes should the PdfFileReader() and PdfFileWriter() File objects will be opened?\n",
    "Ans: For PdfFileReader() file objects WILL be opened in rb -> read binary mode, Whereas for PdfFileWriter() file objects WILL be opened in wb -> write binary mode.\n",
    "\n",
    "2. From a PdfFileReader object, how do you get a Page object for page 5?\n",
    "Ans: Calling pdfReader.getPage(4) will return a Page object , since page 0 is the first page.\n",
    "\n",
    "3. What PdfFileReader variable stores the number of pages in the PDF document?\n",
    "Ans:The number_of_Pages variable stores an integer of the number of pages in the PdfFileReader object.\n",
    "\n",
    "4. If a PdfFileReader object’s PDF is encrypted with the password swordfish, what must you do before you can obtain page objects from it?\n",
    "Ans: By Calling pdfReader.decrypt('swordfish')"
   ]
  },
  {
   "cell_type": "markdown",
   "id": "930189a7-7e4e-480c-9b60-2f65261caf3f",
   "metadata": {},
   "source": [
    "5. What methods do you use to rotate a page?\n",
    "Ans: PyPDF2 Package provides 2 methods to rotate a page:\n",
    "\n",
    "rotateClockWise() -> For Clockwise rotation\n",
    "rotateCounterClockWise() -> For Counter Clockwise rotation\n",
    "The PyPDF2 package only allows you to rotate a page in increments of 90 degrees. You will receive an AssertionError otherwise.\n",
    "\n",
    "6. What is the difference between a Run object and a Paragraph object?\n",
    "Ans: The structure of a document is represented by three different data types in python-Docx. At the highest level, a Document object represents the entire document. The Document object contains a list of Paragraph objects for the paragraphs in the document. (A new paragraph begins whenever the user presses ENTER or RETURN while typing in a Word document.) Each of these Paragraph objects contains a list of one or more Run objects.\n",
    "\n",
    "The text in a Word document is more than just a string. It has font, size, color, and other styling information associated with it. A style in Word is a collection of these attributes. A Run object is a contiguous run of text with the same style. A new Run object is needed whenever the text style changes.\n",
    "\n",
    "7. How do you obtain a list of Paragraph objects for a Document object that’s stored in a variable named doc?\n",
    "Ans: By using doc.paragraphs"
   ]
  },
  {
   "cell_type": "markdown",
   "id": "b24d5aa7-1d68-47b5-94c2-bfa2bbd1f936",
   "metadata": {},
   "source": [
    "8. What type of object has bold, underline, italic, strike, and outline variables?\n",
    "Ans: Run object has bold, underline, italic, strike, and outline variables. The text in a Word document is more than just a string. It has font, size, color, and other styling information associated with it.\n",
    "\n",
    "A style in Word is a collection of these attributes. A Run object is a contiguous run of text with the same style. A new Run object is needed whenever the text style changes.\n",
    "\n",
    "9. What is the difference between False, True, and None for the bold variable?\n",
    "Ans:"
   ]
  },
  {
   "cell_type": "code",
   "execution_count": 1,
   "id": "6121a40f-f380-42b0-a79b-df20a7448bf5",
   "metadata": {},
   "outputs": [],
   "source": [
    "bold = True  # Style Set to Bold\n",
    "bold = False # Style Not Set to Bold\n",
    "bold = None # Style is Not Applicable"
   ]
  },
  {
   "cell_type": "markdown",
   "id": "cefd9675-fde5-4d78-8eae-05f5fbf21292",
   "metadata": {},
   "source": [
    "10. How do you create a Document object for a new Word document?\n",
    "Ans: By Calling docx.Document().\n",
    "\n",
    "11. How do you add a paragraph with the text 'Hello, there!' to a Document object stored in a variable named doc?\n",
    "Ans: doc.add_paragraph('Hello there!')\n",
    "\n",
    "12. What integers represent the levels of headings available in Word documents?\n",
    "Ans: The levels for a heading in a word document can be specified by using the level attribute inside the add_heading method. There are a total of 5 levels statring for 0 to 4. where level 0 makes a headline with the horizontal line below the text, whereas the heading level 1 is the main heading. Similarly, the other headings are sub-heading with their's font-sizes in decreasing order."
   ]
  },
  {
   "cell_type": "code",
   "execution_count": null,
   "id": "f7a429f4-e0e3-4f9e-bb3b-5cfc8b069c31",
   "metadata": {},
   "outputs": [],
   "source": []
  }
 ],
 "metadata": {
  "kernelspec": {
   "display_name": "Python 3 (ipykernel)",
   "language": "python",
   "name": "python3"
  },
  "language_info": {
   "codemirror_mode": {
    "name": "ipython",
    "version": 3
   },
   "file_extension": ".py",
   "mimetype": "text/x-python",
   "name": "python",
   "nbconvert_exporter": "python",
   "pygments_lexer": "ipython3",
   "version": "3.10.6"
  }
 },
 "nbformat": 4,
 "nbformat_minor": 5
}
