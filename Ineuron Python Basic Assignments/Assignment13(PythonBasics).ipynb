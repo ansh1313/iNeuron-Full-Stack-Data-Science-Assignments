{
 "cells": [
  {
   "cell_type": "markdown",
   "id": "57f3c0cf-6d7b-46bd-8a4d-ac0df5a7acaf",
   "metadata": {},
   "source": [
    "ASSIGNMENT 13 SOLUTIONS\n",
    "SUBMITTED BY: GURANSH SINGH\n",
    "\n",
    "1. What advantages do Excel spreadsheets have over CSV spreadsheets?\n",
    "Ans: The Advantages of Excel over CSV are:\n",
    "\n",
    "Do have types for their values—everything is a string\n",
    "Do have settings for font size or color\n",
    "Do have multiple worksheets\n",
    "Can specify cell widths and heights\n",
    "Can have merged cells\n",
    "Can have images or charts embedded in them\n",
    "\n",
    "2.What do you pass to csv.reader() and csv.writer() to create reader and writer objects?\n",
    "Ans: To write a CSV file with the csv module, First, call open() and pass it 'w' to open a file in write mode, and it create a object .That object pass in csv.writer()\n",
    "\n",
    "write_file = open('filename.csv','w')\n",
    "\n",
    "Writer = csv.writer(write_file)\n",
    "\n",
    "To read a CSV file with the csv module, first open it using the open() function and it create a object .That object pass in csv.reader()\n",
    "\n",
    "read_file = open('filename.csv')\n",
    "\n",
    "Reader = csv.reader(read_file)"
   ]
  },
  {
   "cell_type": "markdown",
   "id": "bd3dd080-8be7-4050-b60d-0a94ddefdfa6",
   "metadata": {},
   "source": [
    "3. What modes do File objects for reader and writer objects need to be opened in?\n",
    "Ans: For csv.reader(iterable_file_object), the file objects needed to be opened in read mode mode='r' Whereas for csv.writer(iterable_file_object) the file objects needed to be opened in write mode mode='w'\n",
    "\n",
    "4. What method takes a list argument and writes it to a CSV file?\n",
    "Ans: The writerow() method\n",
    "\n",
    "write_file = open('filename.csv','w')\n",
    "\n",
    "Writer = csv.writer(write_file)\n",
    "\n",
    "Writer.writerow(['mihir','kudale','hello'])\n",
    "\n",
    "5. What do the keyword arguments delimiter and line terminator do?\n",
    "Ans: Lets take the example of a csv file:\n",
    "First Name, Last Name, Age\n",
    "Mihir, Kudale, 28\n",
    "Krish, Naik, 30\n",
    "Here ',' is Delimiter. We can use any Character as per our needs if required. Similarly Line Terminator comes at end of line by default it is newline and can be changed accourding to Requirement."
   ]
  },
  {
   "cell_type": "markdown",
   "id": "1614b2ea-8e57-4044-8c7b-f3b5a603f041",
   "metadata": {},
   "source": [
    "6. What function takes a string of JSON data and returns a Python data structure?\n",
    "Ans: json.loads() method takes a string of JSON data and returns a Python data structure\n",
    "\n",
    "7. What function takes a Python data structure and returns a string of JSON data?\n",
    "Ans: json.dumps() method takes a python data structure and returns a string of JSON data"
   ]
  },
  {
   "cell_type": "code",
   "execution_count": null,
   "id": "1fcf5be5-645e-43b5-ab85-e18013644ab9",
   "metadata": {},
   "outputs": [],
   "source": []
  }
 ],
 "metadata": {
  "kernelspec": {
   "display_name": "Python 3 (ipykernel)",
   "language": "python",
   "name": "python3"
  },
  "language_info": {
   "codemirror_mode": {
    "name": "ipython",
    "version": 3
   },
   "file_extension": ".py",
   "mimetype": "text/x-python",
   "name": "python",
   "nbconvert_exporter": "python",
   "pygments_lexer": "ipython3",
   "version": "3.10.6"
  }
 },
 "nbformat": 4,
 "nbformat_minor": 5
}
