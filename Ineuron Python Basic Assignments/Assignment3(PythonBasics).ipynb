{
 "cells": [
  {
   "cell_type": "markdown",
   "id": "6b49ca64-1f30-44ae-a254-900515fbdcc8",
   "metadata": {},
   "source": [
    "ASSIGNMENT 3 SOLUTIONS"
   ]
  },
  {
   "cell_type": "markdown",
   "id": "5fe1d5d2-42e0-459d-9acd-40d005b1f9ca",
   "metadata": {},
   "source": [
    "SUBMITTED BY: GURANSH SINGH"
   ]
  },
  {
   "cell_type": "markdown",
   "id": "f17f865a-f071-4d65-b8ee-24b7131004ea",
   "metadata": {},
   "source": [
    "1. Why are functions advantageous to have in your programs?\n",
    "Ans: Below are the advantages of functions in programming:\n",
    "\n",
    "Functions reduce the need for duplicate code. This makes programs shorter, easier to read, and easier to update. The main advantage of functions is code Reusability.\n",
    "Increases program readability.\n",
    "Divide a complex problem into simpler ones.\n",
    "Reduces chances of error.\n",
    "Modifying a program becomes easier by using function"
   ]
  },
  {
   "cell_type": "markdown",
   "id": "a3478cfd-caf2-42dd-b5b2-9b33b015434c",
   "metadata": {},
   "source": [
    "2. When does the code in a function run: when it's specified or when it's called?\n",
    "Ans: The code in a function executes when the function is called, not when the function is specified. When a function is \"called\" the program \"leaves\" the current section of code and begins to execute the first line inside the function. Example is mentioned below:"
   ]
  },
  {
   "cell_type": "code",
   "execution_count": 1,
   "id": "cc380804-ee14-4f4c-afaf-023b14be4294",
   "metadata": {},
   "outputs": [
    {
     "name": "stdout",
     "output_type": "stream",
     "text": [
      "Mihir iNeuron\n",
      "Krish iNeuron\n",
      "Sudhanshu iNeuron\n"
     ]
    }
   ],
   "source": [
    "def my_function(fname):\n",
    "  print(fname + \" iNeuron\")\n",
    "\n",
    "my_function(\"Mihir\")\n",
    "my_function(\"Krish\")\n",
    "my_function(\"Sudhanshu\") "
   ]
  },
  {
   "cell_type": "markdown",
   "id": "8d46b9af-469f-4901-9116-7ed4038f8ad7",
   "metadata": {},
   "source": [
    "3. What statement creates a function?\n",
    "Ans: The def statement defines a function\n",
    "Syntax of Function:\n",
    "def function_name(parameters): \"\"\"doc string\"\"\" -----function body----- -----function body----- return value"
   ]
  },
  {
   "cell_type": "code",
   "execution_count": 2,
   "id": "5d7bf0b1-a2a4-4ff7-968f-a4924132eaa7",
   "metadata": {},
   "outputs": [
    {
     "name": "stdout",
     "output_type": "stream",
     "text": [
      "Mihir iNeuron\n",
      "Krish iNeuron\n",
      "Sudhanshu iNeuron\n"
     ]
    }
   ],
   "source": [
    "def my_function(fname):\n",
    "  print(fname + \" iNeuron\")\n",
    "\n",
    "my_function(\"Mihir\")\n",
    "my_function(\"Krish\")\n",
    "my_function(\"Sudhanshu\") "
   ]
  },
  {
   "cell_type": "markdown",
   "id": "e3206987-6a4a-4e42-bf0e-3d55bbac23b1",
   "metadata": {},
   "source": [
    "4. What is the difference between a function and a function call?\n",
    "Ans: A function is a block of code that does a particular operation and returns a result. It usually accepts inputs as parameters and returns a result. The parameters are not mandatory. A function call is the code used to pass control to a function."
   ]
  },
  {
   "cell_type": "code",
   "execution_count": 3,
   "id": "358f9f72-ab67-48f7-afa2-ff6598119c11",
   "metadata": {},
   "outputs": [
    {
     "data": {
      "text/plain": [
       "16"
      ]
     },
     "execution_count": 3,
     "metadata": {},
     "output_type": "execute_result"
    }
   ],
   "source": [
    "#Function\n",
    "def square(x):\n",
    "  \treturn x*x\n",
    "#Function Call\n",
    "(square(4))"
   ]
  },
  {
   "cell_type": "markdown",
   "id": "eb85f666-ab34-4169-b0f4-491b6493bc94",
   "metadata": {},
   "source": [
    "5. How many global scopes are there in a Python program? How many local scopes?\n",
    "Ans: There is one global scope, and a local scope is created whenever a function is called. A variable created inside a function belongs to the local scope of that function, and can only be used inside that function whereas A variable created in the main body of the Python code is a global variable and belongs to the global scope."
   ]
  },
  {
   "cell_type": "code",
   "execution_count": 4,
   "id": "de57a8b2-9fd2-4b3e-96b2-06c3e028df08",
   "metadata": {},
   "outputs": [
    {
     "name": "stdout",
     "output_type": "stream",
     "text": [
      "300\n"
     ]
    }
   ],
   "source": [
    "#Example of Local Scope\n",
    "def myfunc():\n",
    "  x = 300\n",
    "  def myinnerfunc():\n",
    "    print(x)\n",
    "  myinnerfunc()\n",
    "\n",
    "myfunc() "
   ]
  },
  {
   "cell_type": "code",
   "execution_count": 5,
   "id": "fe63673c-6813-4ad2-8e53-7a0786795dca",
   "metadata": {},
   "outputs": [
    {
     "name": "stdout",
     "output_type": "stream",
     "text": [
      "300\n",
      "300\n"
     ]
    }
   ],
   "source": [
    "#Example of Global Scope\n",
    "x = 300\n",
    "\n",
    "def myfunc():\n",
    "  print(x)\n",
    "\n",
    "myfunc()\n",
    "\n",
    "print(x) "
   ]
  },
  {
   "cell_type": "markdown",
   "id": "a5505f0a-379e-4892-bcf5-06c6a9d048ae",
   "metadata": {},
   "source": [
    "6. What happens to variables in a local scope when the function call returns?\n",
    "Ans: When a function returns, the local scope is destroyed, and all the variables in it are forgotten. A local variable becomes undefined after the function call completes"
   ]
  },
  {
   "cell_type": "markdown",
   "id": "c951285e-a22e-45ca-98fd-abfcd67265e5",
   "metadata": {},
   "source": [
    "7. What is the concept of a return value? Is it possible to have a return value in an expression?\n",
    "Ans: The Python return statement is a key component of functions and methods. We can use the return statement to make functions send Python objects back to the caller code. These objects are known as the function’s return value. A return value is the value that a function call evaluates to. Like any value, a return value can be used as part of an expression."
   ]
  },
  {
   "cell_type": "markdown",
   "id": "00c472a3-4d2c-4700-8171-99dcfdf0815a",
   "metadata": {},
   "source": [
    "8. If a function does not have a return statement, what is the return value of a call to that function?\n",
    "Ans: If there is no return statement for a function, its return value is None. The function always returns None if explicit return is not written."
   ]
  },
  {
   "cell_type": "markdown",
   "id": "df9dbb70-cb8d-43c0-893f-92a6d4ead300",
   "metadata": {},
   "source": [
    "9. How do you make a function variable refer to the global variable?\n",
    "Ans: A global statement will force a variable in a function to refer to the global variable. If you want to refer to a global variable in a function, you can use the global keyword to declare which variables are global."
   ]
  },
  {
   "cell_type": "markdown",
   "id": "a2756870-caca-4ae0-82fa-f381ddff6c57",
   "metadata": {},
   "source": [
    "10. What is the data type of None?\n",
    "Ans: The data type of None is NoneType."
   ]
  },
  {
   "cell_type": "markdown",
   "id": "e4055586-7f3a-478e-be89-efa0dd41c6b6",
   "metadata": {},
   "source": [
    "11. What does the sentence import areallyourpetsnamederic do?\n",
    "Ans: That import statement imports a module named areallyourpetsnamederic."
   ]
  },
  {
   "cell_type": "markdown",
   "id": "6a1896c6-4bca-40c5-a510-0ac7bf4b093c",
   "metadata": {},
   "source": [
    "12. If you had a bacon() feature in a spam module, what would you call it after importing spam?\n",
    "Ans: This function can be called with spam.bacon()."
   ]
  },
  {
   "cell_type": "markdown",
   "id": "ae45f37f-b384-40f2-a258-63a0b92fd128",
   "metadata": {},
   "source": [
    "13. What can you do to save a programme from crashing if it encounters an error?\n",
    "Ans: We can place the line of code that might cause an error in a try clause and use except block to handle the error as mentioned below:\n"
   ]
  },
  {
   "cell_type": "code",
   "execution_count": 9,
   "id": "b5dc3022-06b6-4d1b-87f2-028426aa8da6",
   "metadata": {},
   "outputs": [
    {
     "name": "stdout",
     "output_type": "stream",
     "text": [
      "300\n"
     ]
    }
   ],
   "source": [
    "try:\n",
    "  print(x)\n",
    "except:\n",
    "  print(\"An exception occurred\") "
   ]
  },
  {
   "cell_type": "markdown",
   "id": "0a4227b8-4486-4e43-9de6-535795ac4cc5",
   "metadata": {},
   "source": [
    "14. What is the purpose of the try clause? What is the purpose of the except clause?\n",
    "Ans: The code that could potentially cause an error goes in the try clause. The code that executes if an error happens goes in the except clause."
   ]
  },
  {
   "cell_type": "code",
   "execution_count": 10,
   "id": "6a249273-53e8-4d6a-9c61-6db32afdd4ea",
   "metadata": {},
   "outputs": [
    {
     "name": "stdout",
     "output_type": "stream",
     "text": [
      "700\n"
     ]
    }
   ],
   "source": [
    "x = 700\n",
    "try:\n",
    "  print(x)\n",
    "except NameError:\n",
    "  print(\"Variable x is not defined\")\n",
    "except:\n",
    "  print(\"Something else went wrong\") "
   ]
  },
  {
   "cell_type": "code",
   "execution_count": null,
   "id": "56da9e94-d691-4901-b89a-68b3e7e42b40",
   "metadata": {},
   "outputs": [],
   "source": []
  }
 ],
 "metadata": {
  "kernelspec": {
   "display_name": "Python 3 (ipykernel)",
   "language": "python",
   "name": "python3"
  },
  "language_info": {
   "codemirror_mode": {
    "name": "ipython",
    "version": 3
   },
   "file_extension": ".py",
   "mimetype": "text/x-python",
   "name": "python",
   "nbconvert_exporter": "python",
   "pygments_lexer": "ipython3",
   "version": "3.10.6"
  }
 },
 "nbformat": 4,
 "nbformat_minor": 5
}
