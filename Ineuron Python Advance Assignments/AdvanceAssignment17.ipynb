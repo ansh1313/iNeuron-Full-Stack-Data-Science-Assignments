{
 "cells": [
  {
   "cell_type": "markdown",
   "id": "fda85448-f907-4af8-8547-e0cadb994459",
   "metadata": {},
   "source": [
    "Assignment 17 Solutions"
   ]
  },
  {
   "cell_type": "markdown",
   "id": "390bf2c8-4524-4dfe-9457-6839b122ccfd",
   "metadata": {},
   "source": [
    "Q1. Explain the difference between greedy and non-greedy syntax with visual terms in as few words as possible. What is the bare minimum effort required to transform a greedy pattern into a non-greedy one? What characters or characters can you introduce or change?\n",
    "\n",
    "Ans: The Main difference between Greedy and Non Greedy Match Syntax is The Greedy Match will try to match as many repetitions of the quantified pattern as possible Whereas The Non Greedy Match will try to match as few repetitions of the quantified pattern as possible"
   ]
  },
  {
   "cell_type": "code",
   "execution_count": 1,
   "id": "50755a8b-3d94-4458-b3dc-9f44b94b2e33",
   "metadata": {},
   "outputs": [
    {
     "name": "stdout",
     "output_type": "stream",
     "text": [
      "['vvvvvv', '']\n",
      "['', 'v', '', 'v', '', 'v', '', 'v', '', 'v', '', 'v', '']\n"
     ]
    }
   ],
   "source": [
    "import re\n",
    "print(re.findall(\"v*\", \"vvvvvv\")) # Greedy Match Synatx\n",
    "print(re.findall(\"v*?\", \"vvvvvv\")) # Non Greddy Syntax"
   ]
  },
  {
   "cell_type": "markdown",
   "id": "4bd3669e-0c36-40df-a27e-b1c3c38c4f79",
   "metadata": {},
   "source": [
    "Q2. When exactly does greedy versus non-greedy make a difference? What if you're looking for a non-greedy match but the only one available is greedy?\n",
    "\n",
    "Ans: The Greedy Match will try to match as many repetitions of the quantified pattern as possible. The Non Greedy Match will try to match as few repetitions of the quantified pattern as possible. If only Non Greedy Match is available, we can use other filtering or pattern matching methods of regex and further identify the required pattern.\n",
    "\n",
    "Q3. In a simple match of a string, which looks only for one match and does not do any replacement, is the use of a nontagged group likely to make any practical difference?\n",
    "\n",
    "Ans: In this Case The Non Tagged Group will not make any diffrence in this case."
   ]
  },
  {
   "cell_type": "code",
   "execution_count": 2,
   "id": "c54e0719-d435-4464-88e6-91b6105b3a21",
   "metadata": {},
   "outputs": [
    {
     "name": "stdout",
     "output_type": "stream",
     "text": [
      "Phone number found -> 234\n",
      "Phone number found -> 234\n"
     ]
    }
   ],
   "source": [
    "import re\n",
    "phoneNumRegex = re.compile(r'\\d\\d\\d')\n",
    "num = phoneNumRegex.search('My number is 234-567-8901.')\n",
    "print(f'Phone number found -> {num.group()}') # Non Tagged group\n",
    "print(f'Phone number found -> {num.group(0)}') # Tagged Group"
   ]
  },
  {
   "cell_type": "markdown",
   "id": "2a44b8ea-9349-4cc0-a5e9-f28b241bd008",
   "metadata": {},
   "source": [
    "Q4. Describe a scenario in which using a nontagged category would have a significant impact on the program's outcomes ?\n",
    "\n",
    "Ans: Here in the below Code Snippet . decimal is not tagged or captured. It will useful in scenarios where the separator of value in a string is of no use and we need to capture only the values."
   ]
  },
  {
   "cell_type": "code",
   "execution_count": 3,
   "id": "9e5162ab-2e9c-4b00-b780-9fec1d57c695",
   "metadata": {},
   "outputs": [
    {
     "data": {
      "text/plain": [
       "('135', '456')"
      ]
     },
     "execution_count": 3,
     "metadata": {},
     "output_type": "execute_result"
    }
   ],
   "source": [
    "import re\n",
    "text='135.456'\n",
    "pattern=r'(\\d+)(?:.)(\\d+)'\n",
    "regobj=re.compile(pattern)\n",
    "matobj=regobj.search(text)\n",
    "matobj.groups()"
   ]
  },
  {
   "cell_type": "markdown",
   "id": "206c7d9e-5b89-49be-b5c9-4617b7a4f458",
   "metadata": {},
   "source": [
    "Q5. Unlike a normal regex pattern, a look-ahead condition does not consume the characters it examines. Describe a situation in which this could make a difference in the results of your programme ?\n",
    "\n",
    "Ans: While counting the number of multiple lines or mutiple sentence in a string the positive look ahead makes a difference, without which we wont get the correct count of lines or sentences in a string.\n",
    "\n",
    "Q6. In standard expressions, what is the difference between positive look-ahead and negative look-ahead ?\n",
    "\n",
    "Ans: Positive Lookahead allows to add a condition for what follows. Negative Lookahead is similar, but it looks behind. That is, it allows to match a pattern only if there’s something before it.\n",
    "\n",
    "Q7. What is the benefit of referring to groups by name rather than by number in a standard expression?\n",
    "\n",
    "Ans: Referring to groups by name rather than by number in a standard expression helps to keep the code clear and easy to understand.\n",
    "\n",
    "Q8. Can you identify repeated items within a target string using named groups, as in \"The cow jumped over the moon\"?"
   ]
  },
  {
   "cell_type": "code",
   "execution_count": 4,
   "id": "ade44dc1-a83d-47a5-ba25-5af0cdbec2a5",
   "metadata": {},
   "outputs": [
    {
     "data": {
      "text/plain": [
       "['The', 'the']"
      ]
     },
     "execution_count": 4,
     "metadata": {},
     "output_type": "execute_result"
    }
   ],
   "source": [
    "import re\n",
    "text = \"The cow jumped over the moon\"\n",
    "regobj=re.compile(r'(?P<w1>The)',re.I)\n",
    "regobj.findall(text)"
   ]
  },
  {
   "cell_type": "markdown",
   "id": "0c662e8a-fdbd-4b41-a683-e6c57af413ab",
   "metadata": {},
   "source": [
    "Q9. When parsing a string, what is at least one thing that the Scanner interface does for you that the re.findall feature does not ?\n",
    "\n",
    "Ans: re.findall() module is used to search for all occurrences that match a given pattern. In contrast, re.search() will only return the first occurrence that matches the specified pattern. re.findall() will iterate over all the lines of the file and will return all non-overlapping matches of pattern in a single step.\n",
    "\n",
    "Q10. Does a scanner object have to be named scanner?\n",
    "\n",
    "Ans: Yes, It may have any name."
   ]
  },
  {
   "cell_type": "code",
   "execution_count": null,
   "id": "0b431a99-4155-40a6-8c84-1be19e94bfbb",
   "metadata": {},
   "outputs": [],
   "source": []
  }
 ],
 "metadata": {
  "kernelspec": {
   "display_name": "Python 3 (ipykernel)",
   "language": "python",
   "name": "python3"
  },
  "language_info": {
   "codemirror_mode": {
    "name": "ipython",
    "version": 3
   },
   "file_extension": ".py",
   "mimetype": "text/x-python",
   "name": "python",
   "nbconvert_exporter": "python",
   "pygments_lexer": "ipython3",
   "version": "3.10.6"
  }
 },
 "nbformat": 4,
 "nbformat_minor": 5
}
