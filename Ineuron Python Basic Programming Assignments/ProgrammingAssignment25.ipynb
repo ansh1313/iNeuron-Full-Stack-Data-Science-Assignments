{
 "cells": [
  {
   "cell_type": "markdown",
   "id": "ba701ad1-930c-469b-a50d-f9619610b993",
   "metadata": {},
   "source": [
    "Assignment 25 Solutions"
   ]
  },
  {
   "cell_type": "markdown",
   "id": "91b40bd4-1051-4b1b-9d0b-52ab8ea916db",
   "metadata": {},
   "source": [
    "1.Create a function that takes three integer arguments (a, b, c) and returns the amount of integers which are of equal value.\n",
    "\n",
    "Examples:\n",
    "equal(3, 4, 3) ➞ 2\n",
    "equal(1, 1, 1) ➞ 3\n",
    "equal(3, 4, 1) ➞ 0\n",
    "\n",
    "Notes:\n",
    "Your function must return 0, 2 or 3."
   ]
  },
  {
   "cell_type": "code",
   "execution_count": 1,
   "id": "f42ea969-ca2a-4dd4-b04a-e811b1440287",
   "metadata": {},
   "outputs": [
    {
     "name": "stdout",
     "output_type": "stream",
     "text": [
      "(3, 4, 3) ➞ 0\n",
      "(1, 1, 1) ➞ 3\n",
      "(3, 4, 1) ➞ 0\n"
     ]
    }
   ],
   "source": [
    "def equal(a,b,c):\n",
    "    if a==b==c:\n",
    "        print(f'{a,b,c} ➞ {3}')\n",
    "    elif a==b or b==c:\n",
    "        print(f'{a,b,c} ➞ {2}')\n",
    "    else:\n",
    "        print(f'{a,b,c} ➞ {0}')\n",
    "\n",
    "equal(3, 4, 3)\n",
    "equal(1, 1, 1)\n",
    "equal(3, 4, 1)"
   ]
  },
  {
   "cell_type": "markdown",
   "id": "b8950f12-10c1-4621-b540-a56204cdeef4",
   "metadata": {},
   "source": [
    "2.Write a function that converts a dictionary into a list of keys-values tuples.\n",
    "\n",
    "Examples:\n",
    "dict_to_list({ \"D\": 1, \"B\": 2, \"C\": 3 }) ➞ [(\"B\", 2), (\"C\", 3), (\"D\", 1)] dict_to_list({ \"likes\": 2, \"dislikes\": 3, \"followers\": 10 }) ➞ [(\"dislikes\", 3), (\"followers\", 10), (\"likes\", 2)]\n",
    "\n",
    "Notes:\n",
    "Return the elements in the list in alphabetical order."
   ]
  },
  {
   "cell_type": "code",
   "execution_count": 2,
   "id": "4b7f45a1-8601-484b-9a09-4bda00ca1ced",
   "metadata": {},
   "outputs": [
    {
     "name": "stdout",
     "output_type": "stream",
     "text": [
      "{'D': 1, 'B': 2, 'C': 3} ➞ [('D', 1), ('B', 2), ('C', 3)]\n",
      "{'likes': 2, 'dislikes': 3, 'followers': 10} ➞ [('likes', 2), ('dislikes', 3), ('followers', 10)]\n"
     ]
    }
   ],
   "source": [
    "def dict_to_list(in_dict):\n",
    "    out_list = []\n",
    "    for keys,values in in_dict.items():\n",
    "        out_list.append((keys,values))\n",
    "    print(f'{in_dict} ➞ {out_list}')\n",
    "                   \n",
    "dict_to_list({\"D\": 1,\"B\": 2,\"C\": 3})\n",
    "dict_to_list({\"likes\": 2,\"dislikes\": 3,\"followers\": 10})"
   ]
  },
  {
   "cell_type": "markdown",
   "id": "1b270ee1-30aa-4540-8343-404f59966c7e",
   "metadata": {},
   "source": [
    "3.Write a function that creates a dictionary with each (key, value) pair being the (lower case, upper case) versions of a letter, respectively.\n",
    "\n",
    "Examples:\n",
    "mapping([\"p\", \"s\"]) ➞ { \"p\": \"P\", \"s\": \"S\" }\n",
    "mapping([\"a\", \"b\", \"c\"]) ➞ { \"a\": \"A\", \"b\": \"B\", \"c\": \"C\" }\n",
    "mapping([\"a\", \"v\", \"y\", \"z\"]) ➞ { \"a\": \"A\", \"v\": \"V\", \"y\": \"Y\", \"z\": \"Z\" }\n",
    "\n",
    "Notes:\n",
    "All of the letters in the input list will always be lowercase."
   ]
  },
  {
   "cell_type": "code",
   "execution_count": 3,
   "id": "36015311-42f6-4763-8c2c-102e21187241",
   "metadata": {},
   "outputs": [
    {
     "name": "stdout",
     "output_type": "stream",
     "text": [
      "['p', 's'] ➞ {'p': 'P', 's': 'S'}\n",
      "['a', 'b', 'c'] ➞ {'a': 'A', 'b': 'B', 'c': 'C'}\n",
      "['a', 'v', 'y', 'z'] ➞ {'a': 'A', 'v': 'V', 'y': 'Y', 'z': 'Z'}\n"
     ]
    }
   ],
   "source": [
    "def mapping(in_list):\n",
    "    out_dict = {}\n",
    "    for ele in in_list:\n",
    "        out_dict[ele] = ele.upper()\n",
    "    print(f'{in_list} ➞ {out_dict}')\n",
    "    \n",
    "mapping([\"p\", \"s\"])\n",
    "mapping([\"a\", \"b\", \"c\"])\n",
    "mapping([\"a\", \"v\", \"y\", \"z\"])"
   ]
  },
  {
   "cell_type": "markdown",
   "id": "63b89381-484a-435e-a855-1bdb473ff8ea",
   "metadata": {},
   "source": [
    "4.Write a function, that replaces all vowels in a string with a specified vowel.\n",
    "\n",
    "Examples:\n",
    "vow_replace(\"apples and bananas\", \"u\") ➞ \"upplus und bununus\"\n",
    "vow_replace(\"cheese casserole\", \"o\") ➞ \"chooso cossorolo\"\n",
    "vow_replace(\"stuffed jalapeno poppers\", \"e\") ➞ \"steffed jelepene peppers\"\n",
    "\n",
    "Notes:\n",
    "All words will be lowercase. Y is not considered a vowel."
   ]
  },
  {
   "cell_type": "code",
   "execution_count": 4,
   "id": "7b491bfd-1d50-4b6e-b4fe-27d3982f39d9",
   "metadata": {},
   "outputs": [
    {
     "name": "stdout",
     "output_type": "stream",
     "text": [
      "apples and bananas ➞ upplus und bununus\n",
      "cheese casserole ➞ chooso cossorolo\n",
      "stuffed jalapeno poppers ➞ steffed jelepene peppers\n"
     ]
    }
   ],
   "source": [
    "def vow_replace(in_string,vow_char):\n",
    "    vowels = ['a','e','i','o','u']\n",
    "    out_string = ''\n",
    "    for ele in in_string:\n",
    "        if ele in vowels:\n",
    "            out_string += vow_char\n",
    "        else:\n",
    "            out_string += ele\n",
    "    print(f'{in_string} ➞ {out_string}')\n",
    "        \n",
    "vow_replace(\"apples and bananas\", \"u\")\n",
    "vow_replace(\"cheese casserole\", \"o\")\n",
    "vow_replace(\"stuffed jalapeno poppers\", \"e\")"
   ]
  },
  {
   "cell_type": "markdown",
   "id": "9520af81-88de-4ad4-9890-2dbf8fe1be2c",
   "metadata": {},
   "source": [
    "5.Create a function that takes a string as input and capitalizes a letter if its ASCII code is even and returns its lower case version if its ASCII code is odd.\n",
    "\n",
    "Examples:\n",
    "ascii_capitalize(\"to be or not to be!\") ➞ \"To Be oR NoT To Be!\"\n",
    "ascii_capitalize(\"THE LITTLE MERMAID\") ➞ \"THe LiTTLe meRmaiD\"\n",
    "ascii_capitalize(\"Oh what a beautiful morning.\") ➞ \"oH wHaT a BeauTiFuL moRNiNg.\""
   ]
  },
  {
   "cell_type": "code",
   "execution_count": 5,
   "id": "3f429ff5-0d34-486b-aaf6-3e372fc88807",
   "metadata": {},
   "outputs": [
    {
     "name": "stdout",
     "output_type": "stream",
     "text": [
      "to be or not to be! ➞ To Be oR NoT To Be!\n",
      "THE LITTLE MERMAID ➞ THe LiTTLe meRmaiD\n",
      "Oh what a beautiful morning. ➞ oH wHaT a BeauTiFuL moRNiNg.\n"
     ]
    }
   ],
   "source": [
    "def ascii_capitalize(in_string):\n",
    "    out_string = ''\n",
    "    for ele in in_string.lower():\n",
    "        if (ord(ele)%2 == 0):\n",
    "            out_string += ele.upper()\n",
    "        else:\n",
    "            out_string += ele\n",
    "    print(f'{in_string} ➞ {out_string}')\n",
    "        \n",
    "ascii_capitalize(\"to be or not to be!\")\n",
    "ascii_capitalize(\"THE LITTLE MERMAID\")\n",
    "ascii_capitalize(\"Oh what a beautiful morning.\")"
   ]
  },
  {
   "cell_type": "code",
   "execution_count": null,
   "id": "ff7c6712-2096-4e7a-a55f-7e6d8c645afb",
   "metadata": {},
   "outputs": [],
   "source": []
  }
 ],
 "metadata": {
  "kernelspec": {
   "display_name": "Python 3 (ipykernel)",
   "language": "python",
   "name": "python3"
  },
  "language_info": {
   "codemirror_mode": {
    "name": "ipython",
    "version": 3
   },
   "file_extension": ".py",
   "mimetype": "text/x-python",
   "name": "python",
   "nbconvert_exporter": "python",
   "pygments_lexer": "ipython3",
   "version": "3.10.6"
  }
 },
 "nbformat": 4,
 "nbformat_minor": 5
}
