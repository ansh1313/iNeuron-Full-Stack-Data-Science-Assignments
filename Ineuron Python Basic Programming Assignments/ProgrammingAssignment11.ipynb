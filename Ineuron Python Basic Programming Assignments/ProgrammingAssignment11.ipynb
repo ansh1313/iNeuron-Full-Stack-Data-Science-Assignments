{
 "cells": [
  {
   "cell_type": "markdown",
   "id": "c4792f8f-ab3e-4bb0-abbc-4ab9384e12b2",
   "metadata": {},
   "source": [
    "Assignment 11 Solutions"
   ]
  },
  {
   "cell_type": "markdown",
   "id": "16ba4c66-3a0e-4d25-a797-d81fb7665848",
   "metadata": {},
   "source": [
    "1. Write a Python program to find words which are greater than given length k ?"
   ]
  },
  {
   "cell_type": "code",
   "execution_count": 2,
   "id": "dea8b602-16ab-448e-a5bf-0a0e5d8879bc",
   "metadata": {},
   "outputs": [
    {
     "name": "stdin",
     "output_type": "stream",
     "text": [
      "Enter the string:  ineuron\n",
      "Enter the length of the string:  4\n"
     ]
    },
    {
     "name": "stdout",
     "output_type": "stream",
     "text": [
      "ineuron\n"
     ]
    }
   ],
   "source": [
    "def checkLengthOfString():\n",
    "    in_string = input(\"Enter the string: \")\n",
    "    in_length = int(input('Enter the length of the string: '))\n",
    "    out_string = []\n",
    "    for string in in_string.split(\" \"):\n",
    "        if len(string) > in_length:\n",
    "            out_string.append(string)\n",
    "    print(','.join(out_string))\n",
    "\n",
    "checkLengthOfString()"
   ]
  },
  {
   "cell_type": "markdown",
   "id": "5ca43943-60da-4ffe-be6f-2566631bd937",
   "metadata": {},
   "source": [
    "2. Write a Python program for removing i-th character from a string ?"
   ]
  },
  {
   "cell_type": "code",
   "execution_count": 3,
   "id": "049d2c7c-d399-47f1-8ca5-fae1ffdf1a53",
   "metadata": {},
   "outputs": [
    {
     "name": "stdin",
     "output_type": "stream",
     "text": [
      "Enter the String:  ineuron\n",
      "Enter the ith Character:  2\n"
     ]
    },
    {
     "name": "stdout",
     "output_type": "stream",
     "text": [
      "inuron\n"
     ]
    }
   ],
   "source": [
    "def removeCharacter():\n",
    "    in_string = input(\"Enter the String: \")\n",
    "    in_char_num = int(input(\"Enter the ith Character: \"))\n",
    "    out_string = ''\n",
    "    for ele in range(len(in_string)):\n",
    "        if ele != in_char_num:\n",
    "            out_string = out_string + in_string[ele]\n",
    "    print(out_string)\n",
    "    \n",
    "removeCharacter()"
   ]
  },
  {
   "cell_type": "raw",
   "id": "4aec2f78-9c3b-417b-b5d8-0db1ac591def",
   "metadata": {},
   "source": [
    "3. Write a Python program to split and join a string ?"
   ]
  },
  {
   "cell_type": "code",
   "execution_count": 4,
   "id": "87ed56d9-8340-491e-8cd4-17d2b763a856",
   "metadata": {},
   "outputs": [
    {
     "name": "stdin",
     "output_type": "stream",
     "text": [
      "Enter the string:  ineuron data science\n"
     ]
    },
    {
     "name": "stdout",
     "output_type": "stream",
     "text": [
      "Split String: ['ineuron', 'data', 'science']\n",
      "Join String: ineuron data science\n"
     ]
    }
   ],
   "source": [
    "def splitJoinString():\n",
    "    in_string = input('Enter the string: ')\n",
    "    print(f\"Split String: {in_string.split(' ')}\")\n",
    "    print(f\"Join String: {' '.join(in_string.split(' '))}\")\n",
    "\n",
    "splitJoinString()"
   ]
  },
  {
   "cell_type": "markdown",
   "id": "0be45d4b-9bca-40f9-9197-76dad3647f9f",
   "metadata": {},
   "source": [
    "4. Write a Python to check if a given string is binary string or not ?"
   ]
  },
  {
   "cell_type": "code",
   "execution_count": 5,
   "id": "6f29e0dc-9a28-42c1-805b-7040e3959666",
   "metadata": {},
   "outputs": [
    {
     "name": "stdin",
     "output_type": "stream",
     "text": [
      "Enter the string:  124\n"
     ]
    },
    {
     "name": "stdout",
     "output_type": "stream",
     "text": [
      "124 is not a binart string\n"
     ]
    },
    {
     "name": "stdin",
     "output_type": "stream",
     "text": [
      "Enter the string:  4040401\n"
     ]
    },
    {
     "name": "stdout",
     "output_type": "stream",
     "text": [
      "4040401 is not a binart string\n"
     ]
    }
   ],
   "source": [
    "def checkBinary():\n",
    "    in_string = input('Enter the string: ')\n",
    "    stun = 0\n",
    "    for ele in in_string:\n",
    "        if ele in ['0','1']:\n",
    "            stun = 1\n",
    "            continue\n",
    "        else:\n",
    "            stun = 0\n",
    "            break\n",
    "    statement = 'is a binary string' if stun == 1 else 'is not a binart string' \n",
    "    print(f'{in_string} {statement}')\n",
    "\n",
    "checkBinary()\n",
    "checkBinary()"
   ]
  },
  {
   "cell_type": "markdown",
   "id": "511e1265-c2f7-4a0e-bd42-7f878f2a02cf",
   "metadata": {},
   "source": [
    "5. Write a Python program to find uncommon words from two Strings ?"
   ]
  },
  {
   "cell_type": "code",
   "execution_count": 6,
   "id": "96ac1678-7750-4a34-bcfb-793a1ce5fd65",
   "metadata": {},
   "outputs": [
    {
     "name": "stdin",
     "output_type": "stream",
     "text": [
      "Enter the String 1:  vfbf\n",
      "Enter the String 2:  gdd\n"
     ]
    },
    {
     "name": "stdout",
     "output_type": "stream",
     "text": [
      "{'vfbf', 'gdd'}\n"
     ]
    }
   ],
   "source": [
    "def unCommonWords():\n",
    "    in_string_1 = set(input(\"Enter the String 1: \").split(' '))\n",
    "    in_string_2 = set(input(\"Enter the String 2: \").split(' '))\n",
    "    out_string = (in_string_1.union(in_string_2)).difference(in_string_1.intersection(in_string_2))\n",
    "    print(out_string)\n",
    "\n",
    "unCommonWords()"
   ]
  },
  {
   "cell_type": "markdown",
   "id": "811ac0f6-24a6-42fd-98cd-6de591271a7c",
   "metadata": {},
   "source": [
    "6. Write a Python to find all duplicate characters in string ?"
   ]
  },
  {
   "cell_type": "code",
   "execution_count": 7,
   "id": "c740e8be-047e-4a1e-9184-1dadfa662598",
   "metadata": {},
   "outputs": [
    {
     "name": "stdin",
     "output_type": "stream",
     "text": [
      "Enter the string:  full stack web developer\n"
     ]
    },
    {
     "name": "stdout",
     "output_type": "stream",
     "text": [
      "Duplicate characters are: ['l', 'e', ' ']\n"
     ]
    }
   ],
   "source": [
    "def duplicateChars():\n",
    "    in_string = input('Enter the string: ')\n",
    "    non_duplicate_list = []\n",
    "    duplicate_list = []\n",
    "    for ele in in_string:\n",
    "        if ele not in non_duplicate_list:\n",
    "            non_duplicate_list.append(ele)\n",
    "        else:\n",
    "            duplicate_list.append(ele)\n",
    "    print(f'Duplicate characters are: {list(set(duplicate_list))}')\n",
    "        \n",
    "duplicateChars()"
   ]
  },
  {
   "cell_type": "markdown",
   "id": "a136358d-b91b-4d64-86f6-d28ebda2e385",
   "metadata": {},
   "source": [
    "7. Write a Python Program to check if a string contains any special character?"
   ]
  },
  {
   "cell_type": "code",
   "execution_count": 8,
   "id": "c1cb7d54-54de-466a-be16-39a85734b6c6",
   "metadata": {},
   "outputs": [
    {
     "name": "stdin",
     "output_type": "stream",
     "text": [
      "Enter the string:  ncv@vdfkvd\n"
     ]
    },
    {
     "name": "stdout",
     "output_type": "stream",
     "text": [
      "There are 1 Speical Characters in ncv@vdfkvd which are ['@']\n"
     ]
    },
    {
     "name": "stdin",
     "output_type": "stream",
     "text": [
      "Enter the string:  jdjfjvinn:\n"
     ]
    },
    {
     "name": "stdout",
     "output_type": "stream",
     "text": [
      "There are 1 Speical Characters in jdjfjvinn: which are [':']\n"
     ]
    }
   ],
   "source": [
    "def checkSpecialChar():\n",
    "    spl_chars = '[@_!#$%^&*()<>?/\\|}{~:]'\n",
    "    in_num = input('Enter the string: ')\n",
    "    count = 0\n",
    "    char_list = []\n",
    "    for ele in in_num:\n",
    "        if ele in spl_chars:\n",
    "            char_list.append(ele)\n",
    "            count = count+1\n",
    "    print(f'There are {count} Speical Characters in {in_num} which are {char_list}')\n",
    "            \n",
    "        \n",
    "checkSpecialChar()\n",
    "checkSpecialChar()"
   ]
  },
  {
   "cell_type": "code",
   "execution_count": null,
   "id": "7b79c57c-c988-4fa4-a2bc-1ca432150463",
   "metadata": {},
   "outputs": [],
   "source": []
  }
 ],
 "metadata": {
  "kernelspec": {
   "display_name": "Python 3 (ipykernel)",
   "language": "python",
   "name": "python3"
  },
  "language_info": {
   "codemirror_mode": {
    "name": "ipython",
    "version": 3
   },
   "file_extension": ".py",
   "mimetype": "text/x-python",
   "name": "python",
   "nbconvert_exporter": "python",
   "pygments_lexer": "ipython3",
   "version": "3.10.6"
  }
 },
 "nbformat": 4,
 "nbformat_minor": 5
}
